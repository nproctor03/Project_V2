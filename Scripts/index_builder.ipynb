{
 "cells": [
  {
   "cell_type": "code",
   "execution_count": null,
   "id": "c4f31262",
   "metadata": {},
   "outputs": [],
   "source": [
    "from os.path import exists\n",
    "import numpy as np \n",
    "import torch\n",
    "import clip\n",
    "from PIL import Image\n",
    "import faiss\n",
    "import csv\n",
    "import json\n",
    "\n",
    "\n",
    "device = \"cuda\" if torch.cuda.is_available() else \"cpu\"\n",
    "model, preprocess = clip.load(\"ViT-L/14\", device=device, jit=True)  \n"
   ]
  },
  {
   "cell_type": "code",
   "execution_count": null,
   "id": "62f934ce",
   "metadata": {},
   "outputs": [],
   "source": [
    "def build_index(file, index_type):\n",
    "    \n",
    "    dictionary = {}\n",
    "    count = 0\n",
    "    #Check Index type\n",
    "    if index_type.lower() == \"flat\" or index_type.strip() ==\"\":\n",
    "        #initialise flat index\n",
    "        index= faiss.IndexFlatL2(768)\n",
    "        \n",
    "        #Open file and read contents\n",
    "        with open(file,'r')as file:\n",
    "                \n",
    "            filecontent=csv.reader(file)\n",
    "                \n",
    "            for word in filecontent: \n",
    "                    \n",
    "                try:\n",
    "                    # each row is a list so need to strip leading and trailing characters. \n",
    "                    word =str(word).replace('[','').replace(']','').replace(\"'\",\"\").replace(\"ï»¿\",\"\").replace(\",\",\"\").strip()\n",
    "                    text = clip.tokenize(word).to(device)\n",
    "                    #encodes text into vector\n",
    "                    text_features = model.encode_text(text)\n",
    "                    #converts vector to a numpy array to allow it to be used with other python libraries. \n",
    "                    text_embedding = text_features.cpu().detach().numpy().astype(\"float32\")\n",
    "                    \n",
    "                    #add embedding to index\n",
    "                    index.add(text_embedding)\n",
    "                    \n",
    "                    #add elements to dictionary\n",
    "                    dictionary.update({count : word})\n",
    "                    count=count+1\n",
    "                    #save embeddings to 'text_embeddings' folder to build index later. \n",
    "                    # path = folder+str(word).replace('[','').replace(']','').replace(\"'\",\"\")\n",
    "                    # np.save(path, text_embedding) \n",
    "                    \n",
    "                except Exception as e:\n",
    "                    print(e)\n",
    "                    return \"There was an error.\"\n",
    "    else:\n",
    "        #build logic for another type of index\n",
    "        return \"\"\n",
    "\n",
    "\n",
    "    return index, dictionary"
   ]
  },
  {
   "cell_type": "code",
   "execution_count": null,
   "id": "2939db37",
   "metadata": {},
   "outputs": [],
   "source": [
    "file=\"D:\\\\CSVs\\\\Fairface_Gender Labels.csv\"\n",
    "file2 = \"D:\\\\CSVs\\\\FairFace_Age Labels.csv\"\n",
    "file3 = \"D:\\\\CSVs\\\\FairFace_Race Labels.csv\""
   ]
  },
  {
   "cell_type": "code",
   "execution_count": null,
   "id": "d9d95371",
   "metadata": {},
   "outputs": [],
   "source": [
    "genders_index, gender_dictionary = build_index(file, 'flat')\n",
    "age_index, age_dictionary = build_index(file2, 'flat')\n",
    "race_index, race_dictionary = build_index(file3, 'flat')"
   ]
  },
  {
   "cell_type": "code",
   "execution_count": null,
   "id": "7f36eb39",
   "metadata": {},
   "outputs": [],
   "source": [
    "# print(genders_index.ntotal)\n",
    "# print(gender_dictionary)\n",
    "# print(age_index.ntotal)\n",
    "# print(age_dictionary)\n",
    "# print(race_index.ntotal)\n",
    "# print(race_dictionary)"
   ]
  },
  {
   "cell_type": "code",
   "execution_count": null,
   "id": "8145b241",
   "metadata": {},
   "outputs": [],
   "source": [
    "from faiss import write_index\n",
    "import pickle"
   ]
  },
  {
   "cell_type": "code",
   "execution_count": null,
   "id": "c1d83f7d",
   "metadata": {},
   "outputs": [],
   "source": [
    "write_index(genders_index, \"D:\\\\Final_Project\\\\V2\\\\labels\\\\data\\\\genders.index\")\n",
    "write_index(age_index, \"D:\\\\Final_Project\\\\V2\\\\labels\\\\data\\\\age.index\")\n",
    "write_index(race_index, \"D:\\\\Final_Project\\\\V2\\\\labels\\\\data\\\\race.index\")"
   ]
  },
  {
   "cell_type": "code",
   "execution_count": null,
   "id": "65c7ae09",
   "metadata": {},
   "outputs": [],
   "source": [
    "try:\n",
    "    new_file = open('D:\\\\Final_Project\\\\V2\\\\labels\\\\data\\\\genders_dictionary', 'wb')\n",
    "    pickle.dump(gender_dictionary, new_file)\n",
    "    new_file.close()\n",
    "\n",
    "except Exception as e:\n",
    "    print(\"Something went wrong\")\n",
    "    print(e)"
   ]
  },
  {
   "cell_type": "code",
   "execution_count": null,
   "id": "71a8f13a",
   "metadata": {},
   "outputs": [],
   "source": [
    "try:\n",
    "    new_file = open('D:\\\\Final_Project\\\\V2\\\\labels\\\\data\\\\age_dictionary', 'wb')\n",
    "    pickle.dump(age_dictionary, new_file)\n",
    "    new_file.close()\n",
    "\n",
    "except Exception as e:\n",
    "    print(\"Something went wrong\")\n",
    "    print(e)"
   ]
  },
  {
   "cell_type": "code",
   "execution_count": null,
   "id": "3dd6a7c1",
   "metadata": {},
   "outputs": [],
   "source": [
    "try:\n",
    "    new_file = open('D:\\\\Final_Project\\\\V2\\\\labels\\\\data\\\\race_dictionary', 'wb')\n",
    "    pickle.dump(race_dictionary, new_file)\n",
    "    new_file.close()\n",
    "\n",
    "except Exception as e:\n",
    "    print(\"Something went wrong\")\n",
    "    print(e)"
   ]
  },
  {
   "cell_type": "code",
   "execution_count": null,
   "id": "9b08f4f0",
   "metadata": {},
   "outputs": [],
   "source": []
  },
  {
   "cell_type": "code",
   "execution_count": null,
   "id": "91b5b0cb",
   "metadata": {},
   "outputs": [],
   "source": []
  },
  {
   "cell_type": "code",
   "execution_count": null,
   "id": "8138b162",
   "metadata": {},
   "outputs": [],
   "source": []
  },
  {
   "cell_type": "code",
   "execution_count": null,
   "id": "84d27586",
   "metadata": {},
   "outputs": [],
   "source": [
    "file=\"D:\\\\CSVs\\\\Fairface_Gender Labels.csv\"\n",
    "file2 = \"D:\\\\CSVs\\\\FairFace_Age Labels.csv\"\n",
    "file3 = \"D:\\\\CSVs\\\\FairFace_Race Labels.csv\"\n",
    "nationalities, nat_dictionary = build_index(file, 'flat')\n",
    "file=\"D:\\\\CSVs\\\\dogs.csv\"\n",
    "dogs, dog_dictionary= build_index(file, 'flat')"
   ]
  },
  {
   "cell_type": "code",
   "execution_count": null,
   "id": "a0047d39",
   "metadata": {},
   "outputs": [],
   "source": [
    "nationalities.ntotal"
   ]
  },
  {
   "cell_type": "code",
   "execution_count": null,
   "id": "d0a9fd41",
   "metadata": {},
   "outputs": [],
   "source": [
    "dogs.ntotal"
   ]
  },
  {
   "cell_type": "code",
   "execution_count": null,
   "id": "40542017",
   "metadata": {},
   "outputs": [],
   "source": [
    "nat_dictionary"
   ]
  },
  {
   "cell_type": "code",
   "execution_count": null,
   "id": "7d9cf2d8",
   "metadata": {},
   "outputs": [],
   "source": [
    "dog_dictionary"
   ]
  },
  {
   "cell_type": "code",
   "execution_count": null,
   "id": "291de60e",
   "metadata": {},
   "outputs": [],
   "source": [
    "file=\"D:\\\\CSVs\\\\sexes.csv\"\n",
    "sexes_index, sexes_dict = build_index(file, 'flat')"
   ]
  },
  {
   "cell_type": "code",
   "execution_count": null,
   "id": "f620b44a",
   "metadata": {},
   "outputs": [],
   "source": [
    "sexes_dict\n",
    "sexes_index.ntotal"
   ]
  },
  {
   "cell_type": "code",
   "execution_count": null,
   "id": "b1df0aa0",
   "metadata": {},
   "outputs": [],
   "source": [
    "file=\"D:\\\\CSVs\\\\hair.csv\"\n",
    "hair_index, hair_dict = build_index(file, 'flat')"
   ]
  },
  {
   "cell_type": "code",
   "execution_count": null,
   "id": "09e65a72",
   "metadata": {},
   "outputs": [],
   "source": [
    "hair_dict"
   ]
  },
  {
   "cell_type": "code",
   "execution_count": null,
   "id": "0ccf50f4",
   "metadata": {},
   "outputs": [],
   "source": [
    "file=\"D:\\\\CSVs\\\\celeb_A_pre_labelled.csv\"\n",
    "celeb_A_pre_labelled_index, celeb_A_pre_labelled_dict = build_index(file, 'flat')\n",
    "\n",
    "file=\"D:\\\\CSVs\\\\generations(young old).csv\"\n",
    "generations_index, generations_dict = build_index(file, 'flat')\n"
   ]
  },
  {
   "cell_type": "code",
   "execution_count": null,
   "id": "b98268f4",
   "metadata": {},
   "outputs": [],
   "source": [
    "celeb_A_pre_labelled_dict"
   ]
  },
  {
   "cell_type": "code",
   "execution_count": null,
   "id": "19b79d94",
   "metadata": {},
   "outputs": [],
   "source": [
    "file=\"D:\\\\CSVs\\\\beard.csv\"\n",
    "beard_index, beard_dict = build_index(file, 'flat')\n",
    "\n",
    "file=\"D:\\\\CSVs\\\\wearing_glasses.csv\"\n",
    "wearingglasses_index, wearingglasses_dict = build_index(file, 'flat')\n",
    "\n",
    "file=\"D:\\\\CSVs\\\\wearing_hat.csv\"\n",
    "hat_index, hat_dict = build_index(file, 'flat')\n",
    "\n",
    "file=\"D:\\\\CSVs\\\\mouthopened.csv\"\n",
    "mouthopened_index, mouthopened_dict = build_index(file, 'flat')"
   ]
  },
  {
   "cell_type": "code",
   "execution_count": null,
   "id": "98d57765",
   "metadata": {},
   "outputs": [],
   "source": [
    "mouthopened_dict"
   ]
  },
  {
   "cell_type": "code",
   "execution_count": null,
   "id": "69d3073c",
   "metadata": {},
   "outputs": [],
   "source": [
    "from faiss import write_index\n",
    "\n",
    "write_index(nationalities, \"nationalities.index\")\n",
    "write_index(dogs, \"dogs.index\")\n",
    "write_index(hair_index, \"hair.index\")\n",
    "write_index(sexes_index, \"sexes.index\")\n",
    "\n",
    "write_index(generations_index, \"generations.index\")\n",
    "write_index(celeb_A_pre_labelled_index, \"celeb_A_pre_labelled.index\")\n",
    "\n",
    "write_index(beard_index, \"beard.index\")\n",
    "write_index(wearingglasses_index, \"wearing_glasses.index\")\n",
    "write_index(hat_index, \"wearing_hat.index\")\n",
    "write_index(mouthopened_index, \"mouthopened.index\")"
   ]
  },
  {
   "cell_type": "code",
   "execution_count": null,
   "id": "1df73835",
   "metadata": {},
   "outputs": [],
   "source": [
    "import pickle"
   ]
  },
  {
   "cell_type": "code",
   "execution_count": null,
   "id": "09758b9f",
   "metadata": {},
   "outputs": [],
   "source": [
    "try:\n",
    "    new_file = open('nationalities_dictionary', 'wb')\n",
    "    pickle.dump(nat_dictionary, new_file)\n",
    "    new_file.close()\n",
    "\n",
    "except:\n",
    "    print(\"Something went wrong\")"
   ]
  },
  {
   "cell_type": "code",
   "execution_count": null,
   "id": "9ec0d7e7",
   "metadata": {},
   "outputs": [],
   "source": [
    "try:\n",
    "    new_file = open('dog_dictionary', 'wb')\n",
    "    pickle.dump(dog_dictionary, new_file)\n",
    "    new_file.close()\n",
    "\n",
    "except:\n",
    "    print(\"Something went wrong\")\n",
    "    \n",
    "    \n",
    "    \n",
    "try:\n",
    "    new_file = open('sexes_dict', 'wb')\n",
    "    pickle.dump(sexes_dict, new_file)\n",
    "    new_file.close()\n",
    "\n",
    "except:\n",
    "    print(\"Something went wrong\")\n",
    "    \n",
    "\n",
    "try:\n",
    "    new_file = open('hair_dict', 'wb')\n",
    "    pickle.dump(hair_dict, new_file)\n",
    "    new_file.close()\n",
    "\n",
    "except:\n",
    "    print(\"Something went wrong\")\n",
    "    \n",
    "    \n",
    "try:\n",
    "    new_file = open('celeb_A_pre_labelled_dict', 'wb')\n",
    "    pickle.dump(celeb_A_pre_labelled_dict, new_file)\n",
    "    new_file.close()\n",
    "\n",
    "except:\n",
    "    print(\"Something went wrong\")\n",
    "    \n",
    "    \n",
    "    \n",
    "try:\n",
    "    new_file = open('generations_dict', 'wb')\n",
    "    pickle.dump(generations_dict, new_file)\n",
    "    new_file.close()\n",
    "\n",
    "except:\n",
    "    print(\"Something went wrong\")\n",
    "    \n",
    "    \n",
    "        \n",
    "try:\n",
    "    new_file = open('beard_dict', 'wb')\n",
    "    pickle.dump(beard_dict, new_file)\n",
    "    new_file.close()\n",
    "\n",
    "except:\n",
    "    print(\"Something went wrong\")\n",
    "        \n",
    "    \n",
    "    \n",
    "try:\n",
    "    new_file = open('wearingglasses_dict', 'wb')\n",
    "    pickle.dump(wearingglasses_dict, new_file)\n",
    "    new_file.close()\n",
    "\n",
    "except:\n",
    "    print(\"Something went wrong\")\n",
    "    \n",
    "try:\n",
    "    new_file = open('hat_dict', 'wb')\n",
    "    pickle.dump(hat_dict, new_file)\n",
    "    new_file.close()\n",
    "\n",
    "except:\n",
    "    print(\"Something went wrong\")\n",
    "            \n",
    "        \n",
    "try:\n",
    "    new_file = open('mouthopened_dict', 'wb')\n",
    "    pickle.dump(mouthopened_dict, new_file)\n",
    "    new_file.close()\n",
    "\n",
    "except:\n",
    "    print(\"Something went wrong\")\n",
    "            "
   ]
  },
  {
   "cell_type": "code",
   "execution_count": null,
   "id": "238c15cc",
   "metadata": {},
   "outputs": [],
   "source": [
    "with open(\"Indexes\\\\dogs\\\\dog_dictionary\", \"rb\") as file:\n",
    "    loaded_dict = pickle.load(file)\n",
    "\n",
    "print(loaded_dict)"
   ]
  },
  {
   "cell_type": "code",
   "execution_count": null,
   "id": "6e422852",
   "metadata": {},
   "outputs": [],
   "source": [
    "file=\"D:\\\\CSVs\\\\professions.csv\"\n",
    "professions_index, professions_dict = build_index(file, 'flat')"
   ]
  },
  {
   "cell_type": "code",
   "execution_count": null,
   "id": "129852b4",
   "metadata": {},
   "outputs": [],
   "source": [
    "write_index(professions_index, \"professions.index\")"
   ]
  },
  {
   "cell_type": "code",
   "execution_count": null,
   "id": "77707ce0",
   "metadata": {},
   "outputs": [],
   "source": [
    "try:\n",
    "    new_file = open('professions_dict', 'wb')\n",
    "    pickle.dump(professions_dict, new_file)\n",
    "    new_file.close()\n",
    "\n",
    "except:\n",
    "    print(\"Something went wrong\")\n",
    "            "
   ]
  },
  {
   "cell_type": "code",
   "execution_count": null,
   "id": "3a0b371c",
   "metadata": {},
   "outputs": [],
   "source": []
  }
 ],
 "metadata": {
  "kernelspec": {
   "display_name": "Python 3 (ipykernel)",
   "language": "python",
   "name": "python3"
  },
  "language_info": {
   "codemirror_mode": {
    "name": "ipython",
    "version": 3
   },
   "file_extension": ".py",
   "mimetype": "text/x-python",
   "name": "python",
   "nbconvert_exporter": "python",
   "pygments_lexer": "ipython3",
   "version": "3.9.12"
  }
 },
 "nbformat": 4,
 "nbformat_minor": 5
}
