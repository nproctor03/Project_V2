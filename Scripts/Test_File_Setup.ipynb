{
 "cells": [
  {
   "cell_type": "code",
   "execution_count": 1,
   "id": "9f0b3c1a",
   "metadata": {},
   "outputs": [],
   "source": [
    "import os\n",
    "import shutil\n",
    "import random"
   ]
  },
  {
   "cell_type": "code",
   "execution_count": null,
   "id": "88c10fc7",
   "metadata": {},
   "outputs": [],
   "source": [
    "# set the source and destination folders\n",
    "src_folder = 'D:\\\\FairfaceImages\\\\FairFace_Full_Embeddings'\n",
    "\n",
    "dst_folder_1= 'D:\\\\Test files\\\\test_1'\n",
    "dst_folder_2= 'D:\\\\Test files\\\\test_2'\n",
    "dst_folder_3= 'D:\\\\Test files\\\\test_3'\n",
    "dst_folder_4= 'D:\\\\Test files\\\\test_4'\n",
    "dst_folder_5= 'D:\\\\Test files\\\\test_5'\n",
    "dst_folder_6= 'D:\\\\Test files\\\\test_6'\n",
    "dst_folder_7= 'D:\\\\Test files\\\\test_7'\n",
    "dst_folder_8= 'D:\\\\Test files\\\\test_8'\n",
    "dst_folder_9= 'D:\\\\Test files\\\\test_9'\n",
    "dst_folder_10= 'D:\\\\Test files\\\\test_10'\n",
    "dst_folder_11= 'D:\\\\Test files\\\\test_11'\n",
    "dst_folder_12= 'D:\\\\Test files\\\\test_12'\n",
    "dst_folder_13= 'D:\\\\Test files\\\\test_13'\n",
    "dst_folder_14= 'D:\\\\Test files\\\\test_14'\n",
    "dst_folder_15= 'D:\\\\Test files\\\\test_15'\n",
    "dst_folder_16= 'D:\\\\Test files\\\\test_16'\n",
    "dst_folder_17= 'D:\\\\Test files\\\\test_17'\n",
    "dst_folder_18= 'D:\\\\Test files\\\\test_18'\n",
    "dst_folder_19= 'D:\\\\Test files\\\\test_19'\n",
    "dst_folder_20= 'D:\\\\Test files\\\\test_20'\n",
    "\n",
    "destination_folders = [dst_folder_1,dst_folder_2,dst_folder_3,dst_folder_4,dst_folder_5,dst_folder_6,\n",
    "                       dst_folder_7,dst_folder_8,dst_folder_9,dst_folder_10, dst_folder_11,dst_folder_12,\n",
    "                       dst_folder_13,dst_folder_14,dst_folder_15,dst_folder_16,\n",
    "                       dst_folder_17,dst_folder_18,dst_folder_19,dst_folder_20]"
   ]
  },
  {
   "cell_type": "code",
   "execution_count": 3,
   "id": "15897263",
   "metadata": {},
   "outputs": [],
   "source": [
    "# set the source and destination folders\n",
    "src_folder = 'D:\\\\FairfaceImages\\\\FairFace_Full_Embeddings'\n",
    "\n",
    "dst_folder_21= 'D:\\\\Test files\\\\test_21'\n",
    "dst_folder_22= 'D:\\\\Test files\\\\test_22'\n",
    "dst_folder_23= 'D:\\\\Test files\\\\test_23'\n",
    "dst_folder_24= 'D:\\\\Test files\\\\test_24'\n",
    "dst_folder_25= 'D:\\\\Test files\\\\test_25'\n",
    "dst_folder_26= 'D:\\\\Test files\\\\test_26'\n",
    "dst_folder_27= 'D:\\\\Test files\\\\test_27'\n",
    "dst_folder_28= 'D:\\\\Test files\\\\test_28'\n",
    "dst_folder_29= 'D:\\\\Test files\\\\test_29'\n",
    "dst_folder_30= 'D:\\\\Test files\\\\test_30'\n",
    "dst_folder_31= 'D:\\\\Test files\\\\test_31'\n",
    "dst_folder_32= 'D:\\\\Test files\\\\test_32'\n",
    "dst_folder_33= 'D:\\\\Test files\\\\test_33'\n",
    "dst_folder_34= 'D:\\\\Test files\\\\test_34'\n",
    "dst_folder_35= 'D:\\\\Test files\\\\test_35'\n",
    "dst_folder_36= 'D:\\\\Test files\\\\test_36'\n",
    "dst_folder_37= 'D:\\\\Test files\\\\test_37'\n",
    "dst_folder_38= 'D:\\\\Test files\\\\test_38'\n",
    "dst_folder_39= 'D:\\\\Test files\\\\test_39'\n",
    "dst_folder_40= 'D:\\\\Test files\\\\test_40'\n",
    "\n",
    "destination_folders = [dst_folder_21, dst_folder_22,\n",
    "                       dst_folder_23,dst_folder_24,dst_folder_25,dst_folder_26,dst_folder_27,dst_folder_28,\n",
    "                       dst_folder_29,dst_folder_30,dst_folder_31,dst_folder_32,dst_folder_33,dst_folder_34,\n",
    "                       dst_folder_35,dst_folder_36,dst_folder_37,dst_folder_38,dst_folder_39,dst_folder_40]"
   ]
  },
  {
   "cell_type": "code",
   "execution_count": 5,
   "id": "942f2752",
   "metadata": {},
   "outputs": [],
   "source": [
    "for folder in destination_folders:\n",
    "    # set the number of files to transfer\n",
    "    num_files = 200\n",
    "    file_list = os.listdir(src_folder)\n",
    "    selected_files = random.sample(file_list, num_files)\n",
    "    \n",
    "    for file_name in selected_files:\n",
    "        src_path = os.path.join(src_folder, file_name)\n",
    "        dst_path = os.path.join(folder, file_name)\n",
    "        shutil.move(src_path, dst_path)\n"
   ]
  },
  {
   "cell_type": "code",
   "execution_count": null,
   "id": "fe1c5f66",
   "metadata": {},
   "outputs": [],
   "source": []
  }
 ],
 "metadata": {
  "kernelspec": {
   "display_name": "Python 3 (ipykernel)",
   "language": "python",
   "name": "python3"
  },
  "language_info": {
   "codemirror_mode": {
    "name": "ipython",
    "version": 3
   },
   "file_extension": ".py",
   "mimetype": "text/x-python",
   "name": "python",
   "nbconvert_exporter": "python",
   "pygments_lexer": "ipython3",
   "version": "3.9.13"
  }
 },
 "nbformat": 4,
 "nbformat_minor": 5
}
